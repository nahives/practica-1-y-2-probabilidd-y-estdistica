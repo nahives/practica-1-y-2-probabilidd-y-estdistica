{
  "nbformat": 4,
  "nbformat_minor": 0,
  "metadata": {
    "colab": {
      "provenance": [],
      "authorship_tag": "ABX9TyMzC4rBOR+Mtoa6deiEgsvQ",
      "include_colab_link": true
    },
    "kernelspec": {
      "name": "python3",
      "display_name": "Python 3"
    },
    "language_info": {
      "name": "python"
    }
  },
  "cells": [
    {
      "cell_type": "markdown",
      "metadata": {
        "id": "view-in-github",
        "colab_type": "text"
      },
      "source": [
        "<a href=\"https://colab.research.google.com/github/nahives/practica-1-y-2-probabilidd-y-estdistica/blob/main/Practica_1_y_2_Estadisica_descriptiva_b%C3%A1sica_e_Histogramas.ipynb\" target=\"_parent\"><img src=\"https://colab.research.google.com/assets/colab-badge.svg\" alt=\"Open In Colab\"/></a>"
      ]
    },
    {
      "cell_type": "code",
      "execution_count": 11,
      "metadata": {
        "id": "cZiat5TmuJ0I"
      },
      "outputs": [],
      "source": [
        "from statistics import *"
      ]
    },
    {
      "cell_type": "code",
      "source": [
        "#lista de calificciones del grupo a pobabilidad y estadistica\n",
        "grupoa= {70,70,65,95,45,80,73,20,100,96}\n",
        "print(grupoa)"
      ],
      "metadata": {
        "colab": {
          "base_uri": "https://localhost:8080/"
        },
        "id": "hepmILxjuiZH",
        "outputId": "929f7234-6c0e-4fe6-bfd0-e9584959567d"
      },
      "execution_count": 12,
      "outputs": [
        {
          "output_type": "stream",
          "name": "stdout",
          "text": [
            "{96, 65, 100, 70, 73, 45, 80, 20, 95}\n"
          ]
        }
      ]
    },
    {
      "cell_type": "code",
      "source": [
        "# la funcion type nos devuelve el tipo de dato de la variale\n",
        "type(grupoa)"
      ],
      "metadata": {
        "colab": {
          "base_uri": "https://localhost:8080/"
        },
        "id": "OeNYFhs3vV_1",
        "outputId": "16fe24d3-0fed-4c58-a204-3b44bd092d91"
      },
      "execution_count": 13,
      "outputs": [
        {
          "output_type": "execute_result",
          "data": {
            "text/plain": [
              "set"
            ]
          },
          "metadata": {},
          "execution_count": 13
        }
      ]
    },
    {
      "cell_type": "code",
      "source": [
        "promedio= sum(grupoa)/ len(grupoa)\n",
        "print(promedio)"
      ],
      "metadata": {
        "colab": {
          "base_uri": "https://localhost:8080/"
        },
        "id": "UfUSl08ZvqYS",
        "outputId": "5fed4f92-b86d-4c2c-a3d7-654f65bbddee"
      },
      "execution_count": 14,
      "outputs": [
        {
          "output_type": "stream",
          "name": "stdout",
          "text": [
            "71.55555555555556\n"
          ]
        }
      ]
    },
    {
      "cell_type": "code",
      "source": [
        "# utilizar la funcion mean que esta en la libreria statistics para sacar el promedio\n",
        "promedio2= mean(grupoa)\n",
        "print(promedio2)"
      ],
      "metadata": {
        "colab": {
          "base_uri": "https://localhost:8080/"
        },
        "id": "k4crrqATv5eV",
        "outputId": "268934ad-e806-47f2-c518-de61a06d7c41"
      },
      "execution_count": 15,
      "outputs": [
        {
          "output_type": "stream",
          "name": "stdout",
          "text": [
            "71.55555555555556\n"
          ]
        }
      ]
    },
    {
      "cell_type": "code",
      "source": [
        "# determinar el valor de la media con la fn median\n",
        "mediana= median(grupoa)\n",
        "print(mediana)"
      ],
      "metadata": {
        "colab": {
          "base_uri": "https://localhost:8080/"
        },
        "id": "F3Yh64H-v5zg",
        "outputId": "1c80c536-6a55-402d-ea9b-c69cb8f6a358"
      },
      "execution_count": 16,
      "outputs": [
        {
          "output_type": "stream",
          "name": "stdout",
          "text": [
            "73\n"
          ]
        }
      ]
    },
    {
      "cell_type": "code",
      "source": [
        "# deteminar el valor de la moda con la fn mode\n",
        "moda= mode(grupoa)\n",
        "print(moda)"
      ],
      "metadata": {
        "colab": {
          "base_uri": "https://localhost:8080/"
        },
        "id": "Y8_a49wzv52j",
        "outputId": "f89aadf6-c167-406f-fae6-87d9a68911b4"
      },
      "execution_count": 17,
      "outputs": [
        {
          "output_type": "stream",
          "name": "stdout",
          "text": [
            "96\n"
          ]
        }
      ]
    },
    {
      "cell_type": "markdown",
      "source": [
        "## EJEMPLO 2. TIEMPO DE 100 METROS DE U GRUPO DE 12 ALUMNOS."
      ],
      "metadata": {
        "id": "TmqM0i52xmz5"
      }
    },
    {
      "cell_type": "code",
      "source": [
        "#DEFINIMOS UNA VARIABLE LLAMADA TIEMPOS100MTS DE TIPO LISTA , QUE CONTIENEN LOS TIEMPOS QUE TARDAD LOS 10 ALMUNOS P;ARA CORRER LOS 100MTS\n",
        "tiempos100mts=[15,10,17.20,14.69,13.27,22.15,18.71,19.15,20.65,15.10,17.20]\n",
        "print(tiempos100mts)"
      ],
      "metadata": {
        "colab": {
          "base_uri": "https://localhost:8080/"
        },
        "id": "l6_26qG5xmZf",
        "outputId": "e5269387-0aed-4bf2-ec4b-867ca7b5849a"
      },
      "execution_count": 18,
      "outputs": [
        {
          "output_type": "stream",
          "name": "stdout",
          "text": [
            "[15, 10, 17.2, 14.69, 13.27, 22.15, 18.71, 19.15, 20.65, 15.1, 17.2]\n"
          ]
        }
      ]
    },
    {
      "cell_type": "code",
      "source": [
        "print(\"el tiempo promedio de los corredores es=>\", mean(tiempos100mts))"
      ],
      "metadata": {
        "colab": {
          "base_uri": "https://localhost:8080/"
        },
        "id": "3k4GN97vyl7Q",
        "outputId": "8d7df319-76ec-4673-808b-2e615e33412b"
      },
      "execution_count": 19,
      "outputs": [
        {
          "output_type": "stream",
          "name": "stdout",
          "text": [
            "el tiempo promedio de los corredores es=> 16.64727272727273\n"
          ]
        }
      ]
    },
    {
      "cell_type": "code",
      "source": [
        "mediana= median(tiempos100mts)\n",
        "print(\"la media de los tiempos de los corredores es =>\",mediana)"
      ],
      "metadata": {
        "colab": {
          "base_uri": "https://localhost:8080/"
        },
        "id": "S6Q0hjWozJk4",
        "outputId": "a761d561-4f5f-447f-9f53-a1b6924fc230"
      },
      "execution_count": 20,
      "outputs": [
        {
          "output_type": "stream",
          "name": "stdout",
          "text": [
            "la media de los tiempos de los corredores es => 17.2\n"
          ]
        }
      ]
    },
    {
      "cell_type": "code",
      "source": [
        "moda= mode(tiempos100mts)\n",
        "print(\"la moda de los tiempos es=>\",moda)"
      ],
      "metadata": {
        "colab": {
          "base_uri": "https://localhost:8080/"
        },
        "id": "Kf3toCkMzJbY",
        "outputId": "dcc555b7-e647-476e-ac0b-7607229ed297"
      },
      "execution_count": 21,
      "outputs": [
        {
          "output_type": "stream",
          "name": "stdout",
          "text": [
            "la moda de los tiempos es=> 17.2\n"
          ]
        }
      ]
    },
    {
      "cell_type": "code",
      "source": [
        "multimodas=multimode(tiempos100mts)\n",
        "print(\"la  moda de los tiempos es =>\", multimodas)"
      ],
      "metadata": {
        "colab": {
          "base_uri": "https://localhost:8080/"
        },
        "id": "UEZIKz5ozJTw",
        "outputId": "f2288321-6f84-4b4f-f146-d3c7e8c4e674"
      },
      "execution_count": 22,
      "outputs": [
        {
          "output_type": "stream",
          "name": "stdout",
          "text": [
            "la  moda de los tiempos es => [17.2]\n"
          ]
        }
      ]
    },
    {
      "cell_type": "markdown",
      "source": [
        "## Nueva sección"
      ],
      "metadata": {
        "id": "Tlaq53wp0XLU"
      }
    },
    {
      "cell_type": "markdown",
      "source": [
        "## Ejemplo 3: Histogramas de 2 grupos"
      ],
      "metadata": {
        "id": "pfeWrZnP0XHo"
      }
    },
    {
      "cell_type": "code",
      "source": [
        "import random"
      ],
      "metadata": {
        "id": "E2kp40fWzJMv"
      },
      "execution_count": 23,
      "outputs": []
    },
    {
      "cell_type": "code",
      "source": [
        "fabrica1=[]\n",
        "for i in range(100):\n",
        "  numero_aleatorio= round (random.uniform(50,100),2)\n",
        "  fabrica1.append(numero_aleatorio)\n",
        "print(fabrica1)"
      ],
      "metadata": {
        "colab": {
          "base_uri": "https://localhost:8080/"
        },
        "id": "fr7gs9pi0_OL",
        "outputId": "1e6ab187-f1e0-4b62-ab34-d05197165300"
      },
      "execution_count": 24,
      "outputs": [
        {
          "output_type": "stream",
          "name": "stdout",
          "text": [
            "[85.37, 89.34, 64.78, 93.34, 87.73, 52.49, 75.21, 88.04, 66.72, 78.66, 62.82, 77.61, 63.32, 73.58, 80.52, 66.58, 76.06, 56.98, 69.99, 69.5, 66.92, 71.41, 54.83, 85.55, 63.82, 68.64, 85.26, 74.46, 93.69, 53.64, 65.32, 78.82, 59.57, 73.51, 54.8, 78.44, 62.38, 55.47, 89.23, 88.23, 65.78, 61.35, 80.7, 86.34, 54.8, 52.93, 87.64, 91.14, 57.36, 57.31, 52.86, 65.48, 83.83, 87.63, 56.59, 76.46, 58.99, 88.34, 68.64, 84.31, 68.87, 50.89, 99.31, 96.73, 62.39, 72.69, 81.38, 72.98, 84.79, 60.71, 96.16, 69.35, 65.03, 76.31, 85.83, 90.25, 58.22, 61.47, 69.15, 63.99, 91.68, 76.52, 89.14, 68.17, 85.71, 92.65, 68.27, 89.18, 74.39, 87.6, 84.81, 54.26, 58.11, 66.27, 65.82, 99.98, 74.58, 77.33, 83.15, 57.17]\n"
          ]
        }
      ]
    },
    {
      "cell_type": "code",
      "source": [
        "fabrica2=[]\n",
        "for i in range(100):\n",
        "  numero_aleatorio2= round (random.uniform(50,100),2)\n",
        "  fabrica2.append(numero_aleatorio2)\n",
        "print(fabrica2)"
      ],
      "metadata": {
        "colab": {
          "base_uri": "https://localhost:8080/"
        },
        "id": "5t9THKid0xze",
        "outputId": "1ff9d4bd-24a2-4b28-8bc1-97250c62ade2"
      },
      "execution_count": 25,
      "outputs": [
        {
          "output_type": "stream",
          "name": "stdout",
          "text": [
            "[60.66, 66.59, 71.33, 86.83, 60.37, 98.15, 51.17, 91.42, 89.74, 66.44, 79.42, 54.94, 69.27, 62.85, 92.29, 88.0, 66.76, 94.12, 80.51, 89.48, 96.82, 60.2, 93.8, 72.5, 69.81, 54.59, 52.84, 52.03, 84.01, 76.8, 58.67, 77.72, 60.67, 55.43, 72.81, 58.26, 64.58, 86.29, 71.57, 80.38, 67.98, 53.88, 70.52, 93.37, 59.75, 71.42, 51.91, 50.58, 83.14, 71.28, 62.03, 81.56, 88.77, 50.83, 79.18, 72.25, 56.06, 87.3, 89.25, 97.39, 82.18, 63.52, 63.22, 84.62, 95.2, 55.87, 66.66, 98.18, 69.84, 83.94, 98.56, 93.43, 53.17, 87.0, 86.98, 53.95, 80.1, 64.13, 60.17, 77.56, 63.73, 85.04, 68.53, 52.72, 63.93, 64.29, 98.86, 66.61, 59.12, 67.72, 60.03, 66.38, 64.67, 56.1, 81.62, 68.69, 68.61, 51.96, 52.05, 85.39]\n"
          ]
        }
      ]
    },
    {
      "cell_type": "code",
      "source": [
        "import matplotlib.pyplot as plt"
      ],
      "metadata": {
        "id": "1h2Y83e30xu9"
      },
      "execution_count": 27,
      "outputs": []
    },
    {
      "cell_type": "code",
      "source": [
        "plt.hist(fabrica1)\n",
        "plt.title(\"produccion diaria de la fabrica 1\")"
      ],
      "metadata": {
        "colab": {
          "base_uri": "https://localhost:8080/",
          "height": 469
        },
        "id": "hi5yR2ha0xq5",
        "outputId": "1f3f515f-828c-4580-9526-4e3f177eed40"
      },
      "execution_count": 29,
      "outputs": [
        {
          "output_type": "execute_result",
          "data": {
            "text/plain": [
              "Text(0.5, 1.0, 'produccion diaria de la fabrica 1')"
            ]
          },
          "metadata": {},
          "execution_count": 29
        },
        {
          "output_type": "display_data",
          "data": {
            "text/plain": [
              "<Figure size 640x480 with 1 Axes>"
            ],
            "image/png": "[encoded data removed]"
          },
          "metadata": {}
        }
      ]
    },
    {
      "cell_type": "code",
      "source": [
        "plt.hist(fabrica2)\n",
        "plt.title(\"produccion diaria de la fabrica 2\")"
      ],
      "metadata": {
        "colab": {
          "base_uri": "https://localhost:8080/",
          "height": 469
        },
        "id": "qH1Dk49_0xms",
        "outputId": "270938f1-fb33-4a54-dce3-41c219082485"
      },
      "execution_count": 30,
      "outputs": [
        {
          "output_type": "execute_result",
          "data": {
            "text/plain": [
              "Text(0.5, 1.0, 'produccion diaria de la fabrica 2')"
            ]
          },
          "metadata": {},
          "execution_count": 30
        },
        {
          "output_type": "display_data",
          "data": {
            "text/plain": [
              "<Figure size 640x480 with 1 Axes>"
            ],
            "image/png": "[encoded data removed]"
          },
          "metadata": {}
        }
      ]
    },
    {
      "cell_type": "code",
      "source": [
        "media= mean(fabrica1)\n",
        "mediana= median(fabrica1)\n",
        "moda= mode(fabrica1)\n",
        "\n",
        "print(\"valores de la fabrica 1\")\n",
        "print(\"la media es=\", media)\n",
        "print(\"la mediana es=\",mediana)\n",
        "print(\"la moda es=\",moda)"
      ],
      "metadata": {
        "colab": {
          "base_uri": "https://localhost:8080/"
        },
        "id": "TEZtUV7E8ffM",
        "outputId": "c4a61999-8a4f-49ea-df65-f888dc74ae27"
      },
      "execution_count": 31,
      "outputs": [
        {
          "output_type": "stream",
          "name": "stdout",
          "text": [
            "valores de la fabrica 1\n",
            "la media es= 73.524\n",
            "la mediana es= 73.245\n",
            "la moda es= 68.64\n"
          ]
        }
      ]
    },
    {
      "cell_type": "code",
      "source": [
        "media= mean(fabrica2)\n",
        "mediana= median(fabrica2)\n",
        "moda= mode(fabrica2)\n",
        "\n",
        "print(\"valores de la fabrica 2\")\n",
        "print(\"la media es=\", media)\n",
        "print(\"la mediana es=\",mediana)\n",
        "print(\"la moda es=\",moda)"
      ],
      "metadata": {
        "colab": {
          "base_uri": "https://localhost:8080/"
        },
        "id": "qFlRagdz9aTU",
        "outputId": "e2b9b4bc-c8b4-4e29-90ef-576cbcbb8de2"
      },
      "execution_count": 32,
      "outputs": [
        {
          "output_type": "stream",
          "name": "stdout",
          "text": [
            "valores de la fabrica 2\n",
            "la media es= 72.229\n",
            "la mediana es= 69.53999999999999\n",
            "la moda es= 60.66\n"
          ]
        }
      ]
    },
    {
      "cell_type": "code",
      "source": [
        "# generar 2 subplot de 1 reglon por 2 columnas para esplegar los 2 histogramas,\n",
        "# uno al lado de la otra\n",
        "fig,(ax1, ax2) =plt.subplots(nrows=1, ncols=2)"
      ],
      "metadata": {
        "colab": {
          "base_uri": "https://localhost:8080/",
          "height": 435
        },
        "id": "6AF1tP7E9pYM",
        "outputId": "a3e6331e-cf50-43ad-f653-8fb00280dc3a"
      },
      "execution_count": 33,
      "outputs": [
        {
          "output_type": "display_data",
          "data": {
            "text/plain": [
              "<Figure size 640x480 with 2 Axes>"
            ],
            "image/png": "[encoded data removed]"
          },
          "metadata": {}
        }
      ]
    },
    {
      "cell_type": "code",
      "source": [
        "fig,(ax1, ax2) =plt.subplots(nrows=1, ncols=2, figsize=(10,5))\n",
        "ax1.hist(fabrica1)\n",
        "ax2.hist(fabrica2)\n",
        "plt.show()"
      ],
      "metadata": {
        "colab": {
          "base_uri": "https://localhost:8080/",
          "height": 445
        },
        "id": "_DFehh5W_tEQ",
        "outputId": "570cba49-c7da-43d2-c0c4-29a5a22efa10"
      },
      "execution_count": 35,
      "outputs": [
        {
          "output_type": "display_data",
          "data": {
            "text/plain": [
              "<Figure size 1000x500 with 2 Axes>"
            ],
            "image/png": "[encoded data removed]"
          },
          "metadata": {}
        }
      ]
    },
    {
      "cell_type": "code",
      "source": [
        "#valor minimo , maximo, rango\n",
        "\n",
        "media1= mean(fabrica1)\n",
        "mediana1= median(fabrica1)\n",
        "moda1= mode(fabrica1)"
      ],
      "metadata": {
        "id": "wk23gqUN_tBG"
      },
      "execution_count": 38,
      "outputs": []
    },
    {
      "cell_type": "code",
      "source": [
        "plt.hist(fabrica1, bins=10, alpha=0.4, color= 'b', edgecolor= \"black\")\n",
        "plt.axvline(media1, color='b', linestyle='dashed', linewidth=2, label='Media')\n",
        "\n",
        "plt.axvline(mediana1, color='r', linestyle= \"dashed\", linewidth= 2, label= 'Mediana')\n",
        "\n",
        "plt.axvline(moda1, color='y' , linestyle ='dashed', linewidth=2, label='Moda')\n",
        "\n",
        "plt.xlabel('Valor')\n",
        "\n",
        "plt.ylabel('frecuericial')\n",
        "\n",
        "plt.title(\"production diaria de la fabrica 1\")\n",
        "\n",
        "plt.legend()\n",
        "\n",
        "plt.show()"
      ],
      "metadata": {
        "colab": {
          "base_uri": "https://localhost:8080/",
          "height": 472
        },
        "id": "0h-evdUQ_s7P",
        "outputId": "3ae191da-8537-494f-b3a8-574abd56432f"
      },
      "execution_count": 39,
      "outputs": [
        {
          "output_type": "display_data",
          "data": {
            "text/plain": [
              "<Figure size 640x480 with 1 Axes>"
            ],
            "image/png": "[encoded data removed]"
          },
          "metadata": {}
        }
      ]
    },
    {
      "cell_type": "code",
      "source": [
        "media2= mean(fabrica2)\n",
        "mediana2= median(fabrica2)\n",
        "moda2= mode(fabrica2)\n",
        "\n",
        "plt.hist(fabrica2, bins=10, alpha=0.4, color= 'b', edgecolor= \"black\")\n",
        "plt.axvline(media2, color='b', linestyle='dashed', linewidth=2, label='Media')\n",
        "\n",
        "plt.axvline(mediana2, color='r', linestyle= \"dashed\", linewidth= 2, label= 'Mediana')\n",
        "\n",
        "plt.axvline(moda2, color='y' , linestyle ='dashed', linewidth=2, label='Moda')\n",
        "\n",
        "plt.xlabel('Valor')\n",
        "\n",
        "plt.ylabel('frecuericial')\n",
        "\n",
        "plt.title(\"production diaria de la fabrica 2\")\n",
        "\n",
        "plt.legend()\n",
        "\n",
        "plt.show()"
      ],
      "metadata": {
        "colab": {
          "base_uri": "https://localhost:8080/",
          "height": 472
        },
        "id": "I_AbjFF4Hl9M",
        "outputId": "bd043094-5007-45be-9481-baa98afbeb58"
      },
      "execution_count": 40,
      "outputs": [
        {
          "output_type": "display_data",
          "data": {
            "text/plain": [
              "<Figure size 640x480 with 1 Axes>"
            ],
            "image/png": "[encoded data removed]"
          },
          "metadata": {}
        }
      ]
    }
  ]
}